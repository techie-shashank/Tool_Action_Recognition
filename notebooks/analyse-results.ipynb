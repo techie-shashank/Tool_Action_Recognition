{
 "cells": [
  {
   "cell_type": "code",
   "execution_count": 11,
   "id": "4ed6fae8",
   "metadata": {},
   "outputs": [],
   "source": [
    "import pandas as pd\n",
    "import ast\n",
    "import re"
   ]
  },
  {
   "cell_type": "code",
   "execution_count": 13,
   "id": "8866a533",
   "metadata": {},
   "outputs": [],
   "source": [
    "# Load CSV\n",
    "df = pd.read_csv(r\"C:\\Users\\taimo\\Desktop\\FAU-Courses\\ADLTS-Seminar\\hyperopt_results\\all_results.csv\")\n",
    "\n",
    "# Clean 'config' and 'model_params' columns before eval\n",
    "def safe_eval_dict(s):\n",
    "    # Replace np.float64(...) with just the float value inside\n",
    "    s = re.sub(r\"np\\.float64\\(([^)]+)\\)\", r\"\\1\", s)\n",
    "    return ast.literal_eval(s)\n",
    "\n",
    "# Apply the safe eval\n",
    "df['config'] = df['config'].apply(safe_eval_dict)\n",
    "df['model_params'] = df['model_params'].apply(safe_eval_dict)"
   ]
  },
  {
   "cell_type": "code",
   "execution_count": null,
   "id": "7fb138f7",
   "metadata": {},
   "outputs": [
    {
     "name": "stdout",
     "output_type": "stream",
     "text": [
      "Best common hyperparameter configuration across all tools:\n",
      "                     tool  accuracy  \\\n",
      "18   electric_screwdriver    0.6217   \n",
      "39    pneumatic_rivet_gun    0.7500   \n",
      "60  pneumatic_screwdriver    0.4155   \n",
      "\n",
      "                                            signature  \n",
      "18  {'batch_size': 128, 'epochs': 30, 'learning_ra...  \n",
      "39  {'batch_size': 128, 'epochs': 30, 'learning_ra...  \n",
      "60  {'batch_size': 128, 'epochs': 30, 'learning_ra...  \n"
     ]
    }
   ],
   "source": [
    "# Extract normalized hyperparameter signature\n",
    "def extract_signature(row):\n",
    "    cfg = row['config']\n",
    "    model_cfg = cfg['model_params'][row['model']]\n",
    "\n",
    "    return str({\n",
    "        'batch_size': cfg.get('batch_size'),\n",
    "        'epochs': cfg.get('epochs'),\n",
    "        'learning_rate': cfg.get('learning_rate'),\n",
    "        'strategy': cfg.get('semi_supervised', {}).get('strategy'),\n",
    "        'labelled_ratio': cfg.get('semi_supervised', {}).get('labelled_ratio'),\n",
    "        'threshold': cfg.get('semi_supervised', {}).get('threshold'),\n",
    "        'temperature': cfg.get('semi_supervised', {}).get('temperature'),\n",
    "        'data_balancing': sorted(cfg.get('data_balancing') or []),  # sort to normalize\n",
    "        'l1_lambda': cfg.get('l1_lambda'),\n",
    "        'gradient_clip': cfg.get('gradient_clip'),\n",
    "        'dropout': model_cfg.get('dropout'),\n",
    "        'hidden_size': model_cfg.get('hidden_size'),\n",
    "        'num_layers': model_cfg.get('num_layers'),\n",
    "        'kernel_size': model_cfg.get('kernel_size'),\n",
    "        'num_channels': model_cfg.get('num_channels'),\n",
    "    })\n",
    "\n",
    "df['signature'] = df.apply(extract_signature, axis=1)\n",
    "\n",
    "# Split into lstm and tcn dfs\n",
    "df_lstm = df[df['model'] == 'lstm']\n",
    "df_tcn = df[df['model'] == 'tcn']\n",
    "\n",
    "def find_top_configs_per_tool(df_model):\n",
    "    # Group by signature and tool, compute mean accuracy per group\n",
    "    grouped = df_model.groupby(['signature', 'tool']).agg({'accuracy': 'mean'}).reset_index()\n",
    "\n",
    "    # Count how many tools share each signature\n",
    "    tool_counts = grouped.groupby('signature').agg(\n",
    "        tool_count=('tool', 'nunique'),\n",
    "        avg_accuracy=('accuracy', 'mean'),\n",
    "        max_accuracy=('accuracy', 'max')\n",
    "    ).reset_index()\n",
    "\n",
    "    # Keep only configs shared across all tools in this model's df\n",
    "    all_tools = df_model['tool'].nunique()\n",
    "    common_configs = tool_counts[tool_counts['tool_count'] == all_tools]\n",
    "\n",
    "    # Sort by max accuracy descending and pick best signature(s)\n",
    "    best_signature = common_configs.sort_values(by='max_accuracy', ascending=False).iloc[0]['signature']\n",
    "\n",
    "    # Filter original model df by this signature\n",
    "    best_rows = df_model[df_model['signature'] == best_signature]\n",
    "\n",
    "    return best_rows\n",
    "\n",
    "best_lstm_rows = find_top_configs_per_tool(df_lstm)\n",
    "best_tcn_rows = find_top_configs_per_tool(df_tcn)\n",
    "\n",
    "# Save each separately\n",
    "best_lstm_rows.to_csv(\"best_lstm_common_configs_across_tools.csv\", index=False)\n",
    "best_tcn_rows.to_csv(\"best_tcn_common_configs_across_tools.csv\", index=False)\n",
    "\n",
    "print(\"Saved best common LSTM config across tools to best_lstm_common_configs_across_tools.csv\")\n",
    "print(\"Saved best common TCN config across tools to best_tcn_common_configs_across_tools.csv\")"
   ]
  }
 ],
 "metadata": {
  "kernelspec": {
   "display_name": "venv",
   "language": "python",
   "name": "python3"
  },
  "language_info": {
   "codemirror_mode": {
    "name": "ipython",
    "version": 3
   },
   "file_extension": ".py",
   "mimetype": "text/x-python",
   "name": "python",
   "nbconvert_exporter": "python",
   "pygments_lexer": "ipython3",
   "version": "3.11.0"
  }
 },
 "nbformat": 4,
 "nbformat_minor": 5
}
